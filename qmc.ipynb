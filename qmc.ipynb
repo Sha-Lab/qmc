{
 "cells": [
  {
   "cell_type": "code",
   "execution_count": 1,
   "metadata": {},
   "outputs": [],
   "source": [
    "import os\n",
    "import numpy as np\n",
    "import dill\n",
    "import seaborn as sns\n",
    "import pandas as pd\n",
    "import matplotlib.pyplot as plt\n",
    "from pathlib import Path\n",
    "from pprint import pprint"
   ]
  },
  {
   "cell_type": "markdown",
   "metadata": {},
   "source": [
    "# search the biggest difference"
   ]
  },
  {
   "cell_type": "code",
   "execution_count": 38,
   "metadata": {},
   "outputs": [
    {
     "name": "stdout",
     "output_type": "stream",
     "text": [
      "(1000,)\n",
      "(1000,)\n",
      "(1000,)\n",
      "(1000,)\n",
      "(1000,)\n",
      "(1000,)\n",
      "(1000,)\n",
      "(1000,)\n",
      "(1000,)\n",
      "(1000,)\n",
      "(1000,)\n",
      "(1000,)\n",
      "(1000,)\n",
      "(1000,)\n",
      "(1000,)\n",
      "(1000,)\n",
      "(1000,)\n",
      "(1000,)\n",
      "(1000,)\n",
      "(1000,)\n",
      "(1000,)\n",
      "(1000,)\n",
      "(1000,)\n",
      "(1000,)\n",
      "(1000,)\n",
      "(1000,)\n",
      "(1000,)\n",
      "(1000,)\n",
      "(1000,)\n",
      "(1000,)\n",
      "(1000,)\n",
      "(1000,)\n",
      "(1000,)\n",
      "(1000,)\n",
      "(1000,)\n",
      "(1000,)\n",
      "(1000,)\n",
      "(1000,)\n",
      "(1000,)\n",
      "(1000,)\n",
      "(1000,)\n",
      "(1000,)\n",
      "(1000,)\n",
      "(1000,)\n",
      "(1000,)\n",
      "(1000,)\n",
      "(1000,)\n",
      "(1000,)\n",
      "(1000,)\n",
      "(1000,)\n",
      "(1000,)\n",
      "(1000,)\n",
      "(1000,)\n",
      "(1000,)\n",
      "(1000,)\n",
      "(1000,)\n",
      "(1000,)\n",
      "(1000,)\n",
      "(1000,)\n",
      "(1000,)\n",
      "(1000,)\n",
      "(1000,)\n",
      "(1000,)\n",
      "(1000,)\n",
      "(1000,)\n",
      "(1000,)\n",
      "(1000,)\n",
      "(1000,)\n",
      "(1000,)\n",
      "(1000,)\n",
      "(1000,)\n",
      "(1000,)\n",
      "(1000,)\n",
      "(1000,)\n",
      "(1000,)\n",
      "(1000,)\n",
      "(1000,)\n",
      "(1000,)\n",
      "(1000,)\n",
      "(1000,)\n",
      "(1000,)\n",
      "(1000,)\n",
      "(1000,)\n",
      "(1000,)\n",
      "(1000,)\n",
      "(1000,)\n",
      "(1000,)\n",
      "(1000,)\n",
      "(1000,)\n",
      "(1000,)\n",
      "(1000,)\n",
      "(1000,)\n",
      "(1000,)\n",
      "(1000,)\n",
      "(1000,)\n",
      "(1000,)\n",
      "{'10-0.0-140-0.01': 5.721500821586837,\n",
      " '10-0.0-400-0.001': 1.5245342548176382,\n",
      " '10-0.1-100-0.01': 17.446996013551093,\n",
      " '10-0.1-160-0.003': 10.925745809886934,\n",
      " '10-0.1-180-0.006': 6.69723567258557,\n",
      " '10-0.5-100-0.003': 2.7358018355330387,\n",
      " '10-0.5-120-0.001': 4.42398557027343,\n",
      " '10-0.5-120-0.01': 9.68206309548048,\n",
      " '10-0.5-140-0.001': 5.642622837463847,\n",
      " '10-0.5-400-0.01': 1.6032925651639616,\n",
      " '10-0.7-160-0.006': 5.090362900007989,\n",
      " '10-0.9-100-0.01': 14.754000955989113,\n",
      " '10-0.9-200-0.006': 8.20885356288754,\n",
      " '13-0.0-120-0.0005': 4.489663282678009,\n",
      " '13-0.0-300-0.0005': 1.7929401492066148,\n",
      " '13-0.0-400-0.006': 2.31930467944494,\n",
      " '13-0.1-120-0.01': 13.309347457665666,\n",
      " '13-0.1-140-0.003': 0.8827851644729634,\n",
      " '13-0.1-300-0.003': 0.505427935571916,\n",
      " '13-0.1-400-0.001': 3.277854276782321,\n",
      " '13-0.3-160-0.006': 3.884084752617696,\n",
      " '13-0.3-80-0.006': 7.57755198920853,\n",
      " '13-0.5-140-0.006': 3.7092367757813065,\n",
      " '13-0.5-200-0.001': 3.0847134671747085,\n",
      " '13-0.9-120-0.01': 21.120603272266308,\n",
      " '13-0.9-140-0.006': 2.5071491265382804,\n",
      " '15-0.0-180-0.0005': 2.5051711852206893,\n",
      " '15-0.1-200-0.01': 15.569752472417719,\n",
      " '15-0.1-300-0.003': 1.4791974326828523,\n",
      " '15-0.1-80-0.0005': 6.205876001635886,\n",
      " '15-0.1-80-0.006': 33.560936121248716,\n",
      " '15-0.3-100-0.006': 8.728454132382893,\n",
      " '15-0.3-180-0.01': 13.87832292792583,\n",
      " '15-0.5-160-0.006': 3.7516064210091002,\n",
      " '15-0.5-180-0.006': 3.8908529198259743,\n",
      " '15-0.5-300-0.003': 1.3689773627960022,\n",
      " '15-0.5-80-0.003': 6.48625998016621,\n",
      " '15-0.5-80-0.006': 30.902137848104232,\n",
      " '15-0.7-160-0.01': 26.951877740649167,\n",
      " '15-0.7-200-0.003': 1.3233275937251818,\n",
      " '15-0.7-400-0.01': 11.82952337256198,\n",
      " '15-0.9-100-0.0005': 4.48771588350165,\n",
      " '15-0.9-200-0.006': 10.842909848046205,\n",
      " '15-0.9-200-0.01': 24.765273888940165,\n",
      " '15-0.9-50-0.001': 2.9562086863503794,\n",
      " '17-0.0-80-0.001': 6.8782471165634576,\n",
      " '17-0.0-80-0.003': 11.205560572679602,\n",
      " '17-0.1-140-0.006': 11.653483649054962,\n",
      " '17-0.1-300-0.0005': 1.4014361448324166,\n",
      " '17-0.3-120-0.001': 1.9977657279265486,\n",
      " '17-0.3-180-0.001': 3.744749166405768,\n",
      " '17-0.5-300-0.01': 8.464666045497381,\n",
      " '17-0.7-100-0.006': 19.513972202666764,\n",
      " '17-0.7-300-0.006': 6.007385040173574,\n",
      " '17-0.9-100-0.001': 2.5726917323023173,\n",
      " '17-0.9-180-0.001': 4.054369905910789,\n",
      " '17-0.9-180-0.006': 6.4467822035323366,\n",
      " '20-0.0-160-0.0005': 1.983117662348576,\n",
      " '20-0.0-300-0.001': 3.4749358188374515,\n",
      " '20-0.0-80-0.001': 4.017814711896847,\n",
      " '20-0.0-80-0.003': 8.321569427986077,\n",
      " '20-0.1-80-0.0005': 2.5533758387775976,\n",
      " '20-0.3-120-0.001': 3.265699059348748,\n",
      " '20-0.3-180-0.01': 18.02625957587493,\n",
      " '20-0.3-50-0.003': 30.135201448011628,\n",
      " '20-0.5-180-0.01': 52.8012995996707,\n",
      " '20-0.7-140-0.003': 2.5349052889906076,\n",
      " '20-0.9-100-0.0005': 14.207346421032781,\n",
      " '20-0.9-120-0.001': 5.436845042139851,\n",
      " '20-0.9-160-0.006': 22.86525616589566,\n",
      " '20-0.9-400-0.006': 3.62905948814614,\n",
      " '5-0.0-200-0.001': 4.03133364451061,\n",
      " '5-0.0-300-0.006': 5.946407804037243,\n",
      " '5-0.1-200-0.01': 8.67832006247567,\n",
      " '5-0.1-300-0.003': 7.880271713930206,\n",
      " '5-0.1-80-0.01': 8.839936897437575,\n",
      " '5-0.3-120-0.001': 5.738064820567857,\n",
      " '5-0.5-100-0.01': 7.590189959176108,\n",
      " '5-0.5-140-0.003': 17.33954834317612,\n",
      " '5-0.5-140-0.006': 7.194422690585306,\n",
      " '5-0.5-140-0.01': 4.9765762353018275,\n",
      " '5-0.5-180-0.01': 7.535493436990414,\n",
      " '5-0.7-180-0.01': 5.118161262742419,\n",
      " '5-0.9-120-0.001': 11.34821907801117,\n",
      " '5-0.9-80-0.006': 10.577074571231542,\n",
      " '7-0.0-120-0.01': 2.8210278049188204,\n",
      " '7-0.0-160-0.0005': 20.046989867463722,\n",
      " '7-0.0-160-0.001': 9.77630296270246,\n",
      " '7-0.1-120-0.0005': 12.005783761080266,\n",
      " '7-0.3-140-0.0005': 19.384178352361516,\n",
      " '7-0.3-80-0.003': 9.691995616180229,\n",
      " '7-0.5-140-0.006': 4.752200270052207,\n",
      " '7-0.9-100-0.006': 0.9657439575985833,\n",
      " '7-0.9-140-0.001': 11.631602380419224,\n",
      " '7-0.9-50-0.001': 5.95098051385807,\n",
      " '7-0.9-80-0.003': 5.065108867930306}\n"
     ]
    }
   ],
   "source": [
    "exp_dir = Path('data/search_learn')\n",
    "diff = dict()\n",
    "for fn in os.listdir(exp_dir):\n",
    "    with open(Path(exp_dir, fn), 'rb') as f:\n",
    "        results = dill.load(f)\n",
    "        results = [res for res in results if len(res[4]['out']) == 0]\n",
    "        if not results: continue\n",
    "        mc_returns = np.stack([res[0] for res in results]).mean(0)\n",
    "        rqmc_returns = np.stack([res[1] for res in results]).mean(0)\n",
    "        #full_returns = np.stack([res[2] for res in results]).mean(0)\n",
    "        #optimal_returns = np.stack([res[3] for res in results]).mean(0)\n",
    "        diff_val = (rqmc_returns - mc_returns).max()\n",
    "        diff[fn] = diff_val\n",
    "pprint(diff)"
   ]
  },
  {
   "cell_type": "markdown",
   "metadata": {},
   "source": [
    "# Compare Learning"
   ]
  },
  {
   "cell_type": "code",
   "execution_count": 8,
   "metadata": {
    "scrolled": true
   },
   "outputs": [
    {
     "name": "stdout",
     "output_type": "stream",
     "text": [
      "num of results: 200\n",
      "num of outs:\n",
      "mc: 177\n",
      "rqmc: 88\n",
      "full: 0\n",
      "optimal: 0\n",
      "number of learning results: 23\n"
     ]
    }
   ],
   "source": [
    "with open('data/search_learn_2/100', 'rb') as f:\n",
    "    full_results = dill.load(f)\n",
    "    print('num of results:', len(full_results))\n",
    "    print('num of outs:')\n",
    "    print('mc:', len([res for res in full_results if 'mc' in res[1]['out']]))\n",
    "    print('rqmc:', len([res for res in full_results if 'rqmc' in res[1]['out']]))\n",
    "    print('full:', len([res for res in full_results if 'full' in res[1]['out']]))\n",
    "    print('optimal:', len([res for res in full_results if 'optimal' in res[1]['out']]))\n",
    "    results = [res[0] for res in full_results if len(res[1]['out']) == 0]\n",
    "    print('number of learning results:', len(results))\n",
    "    if len(results) == 0:\n",
    "        results = [res[0] for res in full_results if len(res[1]['out']) == 1] # only mc is out\n",
    "        print('number of learning results:', len(results))"
   ]
  },
  {
   "cell_type": "code",
   "execution_count": 9,
   "metadata": {
    "scrolled": true
   },
   "outputs": [
    {
     "data": {
      "text/plain": [
       "<seaborn.axisgrid.FacetGrid at 0x7fa2176e17f0>"
      ]
     },
     "execution_count": 9,
     "metadata": {},
     "output_type": "execute_result"
    },
    {
     "data": {
      "image/png": "[encoded data removed]",
      "text/plain": [
       "<Figure size 433.625x360 with 1 Axes>"
      ]
     },
     "metadata": {
      "needs_background": "light"
     },
     "output_type": "display_data"
    }
   ],
   "source": [
    "data = pd.concat([\n",
    "    pd.concat([\n",
    "        pd.DataFrame({\n",
    "            'name': name,\n",
    "            'cost': -val[0],\n",
    "            'x': np.arange(len(val[0]))\n",
    "        })\n",
    "        for name, val in res.items()\n",
    "    ])\n",
    "    for res in results\n",
    "])\n",
    "\n",
    "\n",
    "# mc_data = pd.concat([\n",
    "#     pd.DataFrame(\n",
    "#         {'name': 'mc',\n",
    "#          'return': results[i][0][:x_lim],\n",
    "#          'x': np.arange(len(results[i][0][:x_lim]))}) for i in range(len(results))\n",
    "# ])\n",
    "\n",
    "# rqmc_data = pd.concat([\n",
    "#     pd.DataFrame(\n",
    "#         {'name': 'rqmc',\n",
    "#          'return': results[i][1][:x_lim],\n",
    "#          'x': np.arange(len(results[i][1][:x_lim]))}) for i in range(len(results))\n",
    "# ])\n",
    "\n",
    "# full_data = pd.concat([\n",
    "#     pd.DataFrame(\n",
    "#         {'name': 'full',\n",
    "#          'return': results[i][2][:x_lim],\n",
    "#          'x': np.arange(len(results[i][2][:x_lim]))}) for i in range(len(results))\n",
    "# ])\n",
    "\n",
    "# optimal_data = pd.concat([\n",
    "#     pd.DataFrame(\n",
    "#         {'name': 'optimal',\n",
    "#          'return': results[i][3][:x_lim],\n",
    "#          'x': np.arange(len(results[i][3][:x_lim]))}) for i in range(len(results))\n",
    "# ])\n",
    "\n",
    "#data = pd.concat([mc_data, rqmc_data, full_data, optimal_data])\n",
    "plot = sns.relplot(x='x', y='cost', kind='line', hue='name', data=data)\n",
    "plot.set(ylim=(0, 2000))"
   ]
  },
  {
   "cell_type": "markdown",
   "metadata": {},
   "source": [
    "# Compare Gradident"
   ]
  },
  {
   "cell_type": "code",
   "execution_count": 5,
   "metadata": {
    "scrolled": true
   },
   "outputs": [
    {
     "name": "stdout",
     "output_type": "stream",
     "text": [
      "200\n",
      "rqmc wins in 200/200\n"
     ]
    }
   ],
   "source": [
    "with open('data/compare_grad-10-100000', 'rb') as f:\n",
    "    results = dill.load(f)\n",
    "    results = [res for res in results if not np.isnan(res[1][-1])]\n",
    "    print(len(results))\n",
    "    print('rqmc wins in {}/{}'.format(np.sum([res[0][-1] > res[1][-1] for res in results]), len(results)))"
   ]
  },
  {
   "cell_type": "code",
   "execution_count": 7,
   "metadata": {},
   "outputs": [
    {
     "data": {
      "text/plain": [
       "<seaborn.axisgrid.FacetGrid at 0x138d584a8>"
      ]
     },
     "execution_count": 7,
     "metadata": {},
     "output_type": "execute_result"
    },
    {
     "data": {
      "image/png": "[encoded data removed]",
      "text/plain": [
       "<Figure size 424.25x360 with 1 Axes>"
      ]
     },
     "metadata": {
      "needs_background": "light"
     },
     "output_type": "display_data"
    }
   ],
   "source": [
    "used_results = results[:50]\n",
    "\n",
    "mc_data = pd.concat([\n",
    "    pd.DataFrame(\n",
    "        {'name': 'mc',\n",
    "         'error': used_results[i][0],\n",
    "         'x': np.arange(len(used_results[i][0]))}) for i in range(len(used_results))\n",
    "])\n",
    "\n",
    "rqmc_data = pd.concat([\n",
    "    pd.DataFrame(\n",
    "        {'name': 'rqmc',\n",
    "         'error': used_results[i][1],\n",
    "         'x': np.arange(len(used_results[i][1]))}) for i in range(len(used_results))\n",
    "])\n",
    "\n",
    "data = pd.concat([mc_data, rqmc_data])\n",
    "plot = sns.relplot(x='x', y='error', kind='line', hue='name', data=data)\n",
    "plot.set(yscale='log')"
   ]
  },
  {
   "cell_type": "markdown",
   "metadata": {},
   "source": [
    "# Comparing over seeds (Return)"
   ]
  },
  {
   "cell_type": "code",
   "execution_count": 12,
   "metadata": {},
   "outputs": [
    {
     "ename": "FileNotFoundError",
     "evalue": "[Errno 2] No such file or directory: 'comparing_over_noises/0.0.pkl'",
     "output_type": "error",
     "traceback": [
      "\u001b[0;31m---------------------------------------------------------------------------\u001b[0m",
      "\u001b[0;31mFileNotFoundError\u001b[0m                         Traceback (most recent call last)",
      "\u001b[0;32m<ipython-input-12-27c8bfc22818>\u001b[0m in \u001b[0;36m<module>\u001b[0;34m\u001b[0m\n\u001b[1;32m      1\u001b[0m \u001b[0;31m# load data\u001b[0m\u001b[0;34m\u001b[0m\u001b[0;34m\u001b[0m\u001b[0;34m\u001b[0m\u001b[0m\n\u001b[0;32m----> 2\u001b[0;31m \u001b[0;32mwith\u001b[0m \u001b[0mopen\u001b[0m\u001b[0;34m(\u001b[0m\u001b[0;34m'comparing_over_noises/0.0.pkl'\u001b[0m\u001b[0;34m,\u001b[0m \u001b[0;34m'rb'\u001b[0m\u001b[0;34m)\u001b[0m \u001b[0;32mas\u001b[0m \u001b[0mf\u001b[0m\u001b[0;34m:\u001b[0m\u001b[0;34m\u001b[0m\u001b[0;34m\u001b[0m\u001b[0m\n\u001b[0m\u001b[1;32m      3\u001b[0m     \u001b[0mresults\u001b[0m \u001b[0;34m=\u001b[0m \u001b[0mdill\u001b[0m\u001b[0;34m.\u001b[0m\u001b[0mload\u001b[0m\u001b[0;34m(\u001b[0m\u001b[0mf\u001b[0m\u001b[0;34m)\u001b[0m\u001b[0;34m\u001b[0m\u001b[0;34m\u001b[0m\u001b[0m\n\u001b[1;32m      4\u001b[0m     \u001b[0;31m#results = [res for res in results if not np.isnan(res[1][-1])] # cannot use res[1][-1] == np.nan\u001b[0m\u001b[0;34m\u001b[0m\u001b[0;34m\u001b[0m\u001b[0;34m\u001b[0m\u001b[0m\n\u001b[1;32m      5\u001b[0m     \u001b[0;31m#print(len(results))\u001b[0m\u001b[0;34m\u001b[0m\u001b[0;34m\u001b[0m\u001b[0;34m\u001b[0m\u001b[0m\n",
      "\u001b[0;31mFileNotFoundError\u001b[0m: [Errno 2] No such file or directory: 'comparing_over_noises/0.0.pkl'"
     ]
    }
   ],
   "source": [
    "# load data\n",
    "with open('comparing_over_seeds/200_seeds_2500_trajs.pkl', 'rb') as f:\n",
    "    results = dill.load(f)\n",
    "    results = [res for res in results if not np.isnan(res[1][-1])] # cannot use res[1][-1] == np.nan\n",
    "    print(len(results))"
   ]
  },
  {
   "cell_type": "code",
   "execution_count": 44,
   "metadata": {
    "scrolled": false
   },
   "outputs": [
    {
     "data": {
      "text/plain": [
       "<seaborn.axisgrid.FacetGrid at 0x12246de48>"
      ]
     },
     "execution_count": 44,
     "metadata": {},
     "output_type": "execute_result"
    },
    {
     "data": {
      "image/png": "[encoded data removed]",
      "text/plain": [
       "<Figure size 424.25x360 with 1 Axes>"
      ]
     },
     "metadata": {
      "needs_background": "light"
     },
     "output_type": "display_data"
    }
   ],
   "source": [
    "mc_data = pd.concat([\n",
    "    pd.DataFrame(\n",
    "        {'name': 'mc',\n",
    "         'error': results[i][0],\n",
    "         'x': np.arange(len(results[i][0]))}) for i in range(len(results))\n",
    "])\n",
    "\n",
    "rqmc_data = pd.concat([\n",
    "    pd.DataFrame(\n",
    "        {'name': 'rqmc',\n",
    "         'error': results[i][1],\n",
    "         'x': np.arange(len(results[i][1]))}) for i in range(len(results))\n",
    "])\n",
    "\n",
    "data = pd.concat([mc_data, rqmc_data])\n",
    "plot = sns.relplot(x='x', y='error', kind='line', hue='name', data=data)\n",
    "plot.set(yscale='log')"
   ]
  },
  {
   "cell_type": "markdown",
   "metadata": {},
   "source": [
    "# One seed"
   ]
  },
  {
   "cell_type": "code",
   "execution_count": 4,
   "metadata": {},
   "outputs": [],
   "source": [
    "#with open('one_seed/H-1.num_traj-2500.0.pkl', 'rb') as f:\n",
    "#with open('one_seed/compare_0_100k.pkl', 'rb') as f:\n",
    "with open('one_seed/H-5.num_traj-30000.1.pkl', 'rb') as f:\n",
    "    results = dill.load(f)\n",
    "\n",
    "mc_data = pd.DataFrame({\n",
    "    'name': 'mc',\n",
    "    'error': results['mc_errors'],\n",
    "    'x': np.arange(len(results['mc_errors']))\n",
    "})\n",
    "rqmc_data = pd.DataFrame({\n",
    "    'name': 'rqmc',\n",
    "    'error': results['rqmc_errors'],\n",
    "    'x': np.arange(len(results['rqmc_errors']))\n",
    "})\n",
    "data = pd.concat([mc_data, rqmc_data])"
   ]
  },
  {
   "cell_type": "code",
   "execution_count": 11,
   "metadata": {},
   "outputs": [
    {
     "name": "stdout",
     "output_type": "stream",
     "text": [
      "[[ 2.50000000e-01 -1.29651459e-17 -2.55744868e-17  1.36398873e-17\n",
      "   2.54800645e-17]\n",
      " [-1.29651459e-17  2.50000000e-01 -4.84018955e-19 -2.13918922e-17\n",
      "  -5.13255094e-18]\n",
      " [-2.55744868e-17 -4.84018955e-19  2.50000000e-01 -4.31612115e-18\n",
      "   6.75873130e-18]\n",
      " [ 1.36398873e-17 -2.13918922e-17 -4.31612115e-18  2.50000000e-01\n",
      "  -1.33592116e-17]\n",
      " [ 2.54800645e-17 -5.13255094e-18  6.75873130e-18 -1.33592116e-17\n",
      "   2.50000000e-01]]\n"
     ]
    },
    {
     "data": {
      "image/png": "[encoded data removed]",
      "text/plain": [
       "<Figure size 424.25x360 with 1 Axes>"
      ]
     },
     "metadata": {
      "needs_background": "light"
     },
     "output_type": "display_data"
    }
   ],
   "source": [
    "#plot = sns.relplot(x='x', y='error', hue='name', kind='line', data=data)\n",
    "#plot.set(yscale='log')\n",
    "from main import compare_samples\n",
    "\n",
    "data = compare_samples(50, 2500, noise_scale=0.5, show_fig=True)"
   ]
  },
  {
   "cell_type": "markdown",
   "metadata": {},
   "source": [
    "# Debug"
   ]
  },
  {
   "cell_type": "code",
   "execution_count": 11,
   "metadata": {},
   "outputs": [
    {
     "name": "stdout",
     "output_type": "stream",
     "text": [
      "weight Parameter containing:\n",
      "tensor([[-0.1934, -0.2758, -0.1425, -0.1616, -0.3068, -0.0743,  0.2823,  0.1410,\n",
      "          0.0495,  0.2070],\n",
      "        [ 0.1081, -0.0497, -0.0402,  0.1652, -0.1893, -0.0879,  0.1987, -0.0668,\n",
      "          0.0091,  0.2850],\n",
      "        [-0.0523, -0.0862,  0.1250, -0.2178,  0.0176,  0.2996,  0.0648,  0.0271,\n",
      "          0.0990, -0.1839],\n",
      "        [ 0.1761, -0.2515,  0.2376,  0.0828, -0.0556,  0.2213,  0.2378,  0.2849,\n",
      "          0.1870, -0.0220],\n",
      "        [ 0.1420, -0.2498,  0.1630,  0.0941,  0.2684,  0.1991, -0.1635,  0.1753,\n",
      "          0.2791,  0.1415],\n",
      "        [ 0.0059, -0.2648,  0.2324,  0.0913, -0.0097,  0.0066,  0.0373,  0.0405,\n",
      "         -0.1373, -0.0539],\n",
      "        [ 0.2882,  0.0784,  0.0264, -0.1116,  0.2229, -0.1447, -0.1129, -0.0699,\n",
      "          0.2869,  0.0132],\n",
      "        [-0.2146,  0.1866, -0.1010,  0.0016, -0.1902, -0.0917, -0.1621,  0.0455,\n",
      "          0.2752, -0.0336],\n",
      "        [ 0.2609, -0.3011,  0.3098, -0.0103,  0.0185,  0.1859, -0.2402, -0.2952,\n",
      "         -0.1301,  0.0196],\n",
      "        [ 0.1238,  0.0415, -0.1321, -0.2186, -0.2896, -0.1372, -0.2765,  0.2824,\n",
      "         -0.1998, -0.0327]], requires_grad=True)\n",
      "bias Parameter containing:\n",
      "tensor([-0.1437,  0.2775, -0.2534,  0.3072, -0.0415, -0.1840, -0.1175,  0.2719,\n",
      "         0.2606,  0.2561])\n"
     ]
    },
    {
     "ename": "RuntimeError",
     "evalue": "element 0 of tensors does not require grad and does not have a grad_fn",
     "output_type": "error",
     "traceback": [
      "\u001b[0;31m---------------------------------------------------------------------------\u001b[0m",
      "\u001b[0;31mRuntimeError\u001b[0m                              Traceback (most recent call last)",
      "\u001b[0;32m<ipython-input-11-08cba5602fed>\u001b[0m in \u001b[0;36m<module>\u001b[0;34m\u001b[0m\n\u001b[1;32m     16\u001b[0m \u001b[0;34m\u001b[0m\u001b[0m\n\u001b[1;32m     17\u001b[0m \u001b[0moptimizer\u001b[0m\u001b[0;34m.\u001b[0m\u001b[0mzero_grad\u001b[0m\u001b[0;34m(\u001b[0m\u001b[0;34m)\u001b[0m\u001b[0;34m\u001b[0m\u001b[0;34m\u001b[0m\u001b[0m\n\u001b[0;32m---> 18\u001b[0;31m \u001b[0mloss\u001b[0m\u001b[0;34m.\u001b[0m\u001b[0mbackward\u001b[0m\u001b[0;34m(\u001b[0m\u001b[0;34m)\u001b[0m\u001b[0;34m\u001b[0m\u001b[0;34m\u001b[0m\u001b[0m\n\u001b[0m\u001b[1;32m     19\u001b[0m \u001b[0moptimizer\u001b[0m\u001b[0;34m.\u001b[0m\u001b[0mstep\u001b[0m\u001b[0;34m(\u001b[0m\u001b[0;34m)\u001b[0m\u001b[0;34m\u001b[0m\u001b[0;34m\u001b[0m\u001b[0m\n\u001b[1;32m     20\u001b[0m \u001b[0;34m\u001b[0m\u001b[0m\n",
      "\u001b[0;32m~/anaconda3/envs/qmc/lib/python3.7/site-packages/torch/tensor.py\u001b[0m in \u001b[0;36mbackward\u001b[0;34m(self, gradient, retain_graph, create_graph)\u001b[0m\n\u001b[1;32m    100\u001b[0m                 \u001b[0mproducts\u001b[0m\u001b[0;34m.\u001b[0m \u001b[0mDefaults\u001b[0m \u001b[0mto\u001b[0m\u001b[0;31m \u001b[0m\u001b[0;31m`\u001b[0m\u001b[0;31m`\u001b[0m\u001b[0;32mFalse\u001b[0m\u001b[0;31m`\u001b[0m\u001b[0;31m`\u001b[0m\u001b[0;34m.\u001b[0m\u001b[0;34m\u001b[0m\u001b[0;34m\u001b[0m\u001b[0m\n\u001b[1;32m    101\u001b[0m         \"\"\"\n\u001b[0;32m--> 102\u001b[0;31m         \u001b[0mtorch\u001b[0m\u001b[0;34m.\u001b[0m\u001b[0mautograd\u001b[0m\u001b[0;34m.\u001b[0m\u001b[0mbackward\u001b[0m\u001b[0;34m(\u001b[0m\u001b[0mself\u001b[0m\u001b[0;34m,\u001b[0m \u001b[0mgradient\u001b[0m\u001b[0;34m,\u001b[0m \u001b[0mretain_graph\u001b[0m\u001b[0;34m,\u001b[0m \u001b[0mcreate_graph\u001b[0m\u001b[0;34m)\u001b[0m\u001b[0;34m\u001b[0m\u001b[0;34m\u001b[0m\u001b[0m\n\u001b[0m\u001b[1;32m    103\u001b[0m \u001b[0;34m\u001b[0m\u001b[0m\n\u001b[1;32m    104\u001b[0m     \u001b[0;32mdef\u001b[0m \u001b[0mregister_hook\u001b[0m\u001b[0;34m(\u001b[0m\u001b[0mself\u001b[0m\u001b[0;34m,\u001b[0m \u001b[0mhook\u001b[0m\u001b[0;34m)\u001b[0m\u001b[0;34m:\u001b[0m\u001b[0;34m\u001b[0m\u001b[0;34m\u001b[0m\u001b[0m\n",
      "\u001b[0;32m~/anaconda3/envs/qmc/lib/python3.7/site-packages/torch/autograd/__init__.py\u001b[0m in \u001b[0;36mbackward\u001b[0;34m(tensors, grad_tensors, retain_graph, create_graph, grad_variables)\u001b[0m\n\u001b[1;32m     88\u001b[0m     Variable._execution_engine.run_backward(\n\u001b[1;32m     89\u001b[0m         \u001b[0mtensors\u001b[0m\u001b[0;34m,\u001b[0m \u001b[0mgrad_tensors\u001b[0m\u001b[0;34m,\u001b[0m \u001b[0mretain_graph\u001b[0m\u001b[0;34m,\u001b[0m \u001b[0mcreate_graph\u001b[0m\u001b[0;34m,\u001b[0m\u001b[0;34m\u001b[0m\u001b[0;34m\u001b[0m\u001b[0m\n\u001b[0;32m---> 90\u001b[0;31m         allow_unreachable=True)  # allow_unreachable flag\n\u001b[0m\u001b[1;32m     91\u001b[0m \u001b[0;34m\u001b[0m\u001b[0m\n\u001b[1;32m     92\u001b[0m \u001b[0;34m\u001b[0m\u001b[0m\n",
      "\u001b[0;31mRuntimeError\u001b[0m: element 0 of tensors does not require grad and does not have a grad_fn"
     ]
    }
   ],
   "source": [
    "import torch\n",
    "from torch.optim import SGD\n",
    "\n",
    "model = torch.nn.Linear(10, 10)\n",
    "optimizer = SGD(filter(lambda p: p.requires_grad, model.parameters()), lr=1e-3)\n",
    "\n",
    "model.bias.requires_grad = False\n",
    "\n",
    "for name, param in model.named_parameters():\n",
    "    print(name, param)\n",
    "\n",
    "x = torch.randn(5, 10)\n",
    "g = torch.randn(5, 10)\n",
    "\n",
    "loss = torch.nn.functional.mse_loss(x, g)\n",
    "\n",
    "optimizer.zero_grad()\n",
    "loss.backward()\n",
    "optimizer.step()\n",
    "\n",
    "for name, param in model.named_parameters():\n",
    "    print(name, param)"
   ]
  },
  {
   "cell_type": "code",
   "execution_count": 29,
   "metadata": {},
   "outputs": [
    {
     "name": "stdout",
     "output_type": "stream",
     "text": [
      "tensor([0, 0, 0, 1], dtype=torch.uint8)\n"
     ]
    }
   ],
   "source": [
    "import torch\n",
    "import numpy as np\n",
    "\n",
    "a = torch.Tensor([0, 1, 2, -np.inf])\n",
    "print(a == float('-inf'))"
   ]
  }
 ],
 "metadata": {
  "kernelspec": {
   "display_name": "Python 3",
   "language": "python",
   "name": "python3"
  },
  "language_info": {
   "codemirror_mode": {
    "name": "ipython",
    "version": 3
   },
   "file_extension": ".py",
   "mimetype": "text/x-python",
   "name": "python",
   "nbconvert_exporter": "python",
   "pygments_lexer": "ipython3",
   "version": "3.7.3"
  }
 },
 "nbformat": 4,
 "nbformat_minor": 2
}
