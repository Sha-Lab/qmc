{
 "cells": [
  {
   "cell_type": "code",
   "execution_count": 5,
   "metadata": {},
   "outputs": [],
   "source": [
    "import numpy as np\n",
    "import dill\n",
    "import seaborn as sns\n",
    "import pandas as pd\n",
    "\n",
    "with open('comparing_over_seeds/200_seeds_2500_trajs.pkl', 'rb') as f:\n",
    "    results = dill.load(f)\n"
   ]
  },
  {
   "cell_type": "code",
   "execution_count": 25,
   "metadata": {},
   "outputs": [
    {
     "name": "stdout",
     "output_type": "stream",
     "text": [
      "      name     error     x\n",
      "900   rqmc  0.696597   900\n",
      "901   rqmc  0.755605   901\n",
      "902   rqmc  0.655772   902\n",
      "903   rqmc  0.671725   903\n",
      "904   rqmc  0.780515   904\n",
      "905   rqmc  0.619254   905\n",
      "906   rqmc  0.658258   906\n",
      "907   rqmc  0.829179   907\n",
      "908   rqmc  0.707748   908\n",
      "909   rqmc  0.887776   909\n",
      "910   rqmc  0.745719   910\n",
      "911   rqmc  0.780901   911\n",
      "912   rqmc  0.814291   912\n",
      "913   rqmc  0.755782   913\n",
      "914   rqmc  0.770243   914\n",
      "915   rqmc  0.823220   915\n",
      "916   rqmc  0.975009   916\n",
      "917   rqmc  0.741913   917\n",
      "918   rqmc  0.707471   918\n",
      "919   rqmc  0.625365   919\n",
      "920   rqmc  0.574816   920\n",
      "921   rqmc  0.596251   921\n",
      "922   rqmc  0.582119   922\n",
      "923   rqmc  0.659154   923\n",
      "924   rqmc  0.601948   924\n",
      "925   rqmc       NaN   925\n",
      "926   rqmc       NaN   926\n",
      "927   rqmc       NaN   927\n",
      "928   rqmc       NaN   928\n",
      "929   rqmc       NaN   929\n",
      "...    ...       ...   ...\n",
      "2470  rqmc       NaN  2470\n",
      "2471  rqmc       NaN  2471\n",
      "2472  rqmc       NaN  2472\n",
      "2473  rqmc       NaN  2473\n",
      "2474  rqmc       NaN  2474\n",
      "2475  rqmc       NaN  2475\n",
      "2476  rqmc       NaN  2476\n",
      "2477  rqmc       NaN  2477\n",
      "2478  rqmc       NaN  2478\n",
      "2479  rqmc       NaN  2479\n",
      "2480  rqmc       NaN  2480\n",
      "2481  rqmc       NaN  2481\n",
      "2482  rqmc       NaN  2482\n",
      "2483  rqmc       NaN  2483\n",
      "2484  rqmc       NaN  2484\n",
      "2485  rqmc       NaN  2485\n",
      "2486  rqmc       NaN  2486\n",
      "2487  rqmc       NaN  2487\n",
      "2488  rqmc       NaN  2488\n",
      "2489  rqmc       NaN  2489\n",
      "2490  rqmc       NaN  2490\n",
      "2491  rqmc       NaN  2491\n",
      "2492  rqmc       NaN  2492\n",
      "2493  rqmc       NaN  2493\n",
      "2494  rqmc       NaN  2494\n",
      "2495  rqmc       NaN  2495\n",
      "2496  rqmc       NaN  2496\n",
      "2497  rqmc       NaN  2497\n",
      "2498  rqmc       NaN  2498\n",
      "2499  rqmc       NaN  2499\n",
      "\n",
      "[1600 rows x 3 columns]\n"
     ]
    }
   ],
   "source": [
    "seed = 20\n",
    "mc = pd.DataFrame({'name': 'mc', 'error': results[seed][0], 'x': list(range(len(results[seed][0])))})\n",
    "rqmc = pd.DataFrame({'name': 'rqmc', 'error': results[seed][1], 'x': list(range(len(results[seed][0])))})\n",
    "\n",
    "print(rqmc[900:])\n",
    "\n",
    "#data = pd.concat([mc, rqmc])\n",
    "#plot = sns.relplot(x='x', y='error', kind='line', hue='name', data=data)\n",
    "#plot.set(yscale='log')"
   ]
  },
  {
   "cell_type": "code",
   "execution_count": 11,
   "metadata": {},
   "outputs": [
    {
     "name": "stdout",
     "output_type": "stream",
     "text": [
      "weight Parameter containing:\n",
      "tensor([[-0.1934, -0.2758, -0.1425, -0.1616, -0.3068, -0.0743,  0.2823,  0.1410,\n",
      "          0.0495,  0.2070],\n",
      "        [ 0.1081, -0.0497, -0.0402,  0.1652, -0.1893, -0.0879,  0.1987, -0.0668,\n",
      "          0.0091,  0.2850],\n",
      "        [-0.0523, -0.0862,  0.1250, -0.2178,  0.0176,  0.2996,  0.0648,  0.0271,\n",
      "          0.0990, -0.1839],\n",
      "        [ 0.1761, -0.2515,  0.2376,  0.0828, -0.0556,  0.2213,  0.2378,  0.2849,\n",
      "          0.1870, -0.0220],\n",
      "        [ 0.1420, -0.2498,  0.1630,  0.0941,  0.2684,  0.1991, -0.1635,  0.1753,\n",
      "          0.2791,  0.1415],\n",
      "        [ 0.0059, -0.2648,  0.2324,  0.0913, -0.0097,  0.0066,  0.0373,  0.0405,\n",
      "         -0.1373, -0.0539],\n",
      "        [ 0.2882,  0.0784,  0.0264, -0.1116,  0.2229, -0.1447, -0.1129, -0.0699,\n",
      "          0.2869,  0.0132],\n",
      "        [-0.2146,  0.1866, -0.1010,  0.0016, -0.1902, -0.0917, -0.1621,  0.0455,\n",
      "          0.2752, -0.0336],\n",
      "        [ 0.2609, -0.3011,  0.3098, -0.0103,  0.0185,  0.1859, -0.2402, -0.2952,\n",
      "         -0.1301,  0.0196],\n",
      "        [ 0.1238,  0.0415, -0.1321, -0.2186, -0.2896, -0.1372, -0.2765,  0.2824,\n",
      "         -0.1998, -0.0327]], requires_grad=True)\n",
      "bias Parameter containing:\n",
      "tensor([-0.1437,  0.2775, -0.2534,  0.3072, -0.0415, -0.1840, -0.1175,  0.2719,\n",
      "         0.2606,  0.2561])\n"
     ]
    },
    {
     "ename": "RuntimeError",
     "evalue": "element 0 of tensors does not require grad and does not have a grad_fn",
     "output_type": "error",
     "traceback": [
      "\u001b[0;31m---------------------------------------------------------------------------\u001b[0m",
      "\u001b[0;31mRuntimeError\u001b[0m                              Traceback (most recent call last)",
      "\u001b[0;32m<ipython-input-11-08cba5602fed>\u001b[0m in \u001b[0;36m<module>\u001b[0;34m\u001b[0m\n\u001b[1;32m     16\u001b[0m \u001b[0;34m\u001b[0m\u001b[0m\n\u001b[1;32m     17\u001b[0m \u001b[0moptimizer\u001b[0m\u001b[0;34m.\u001b[0m\u001b[0mzero_grad\u001b[0m\u001b[0;34m(\u001b[0m\u001b[0;34m)\u001b[0m\u001b[0;34m\u001b[0m\u001b[0;34m\u001b[0m\u001b[0m\n\u001b[0;32m---> 18\u001b[0;31m \u001b[0mloss\u001b[0m\u001b[0;34m.\u001b[0m\u001b[0mbackward\u001b[0m\u001b[0;34m(\u001b[0m\u001b[0;34m)\u001b[0m\u001b[0;34m\u001b[0m\u001b[0;34m\u001b[0m\u001b[0m\n\u001b[0m\u001b[1;32m     19\u001b[0m \u001b[0moptimizer\u001b[0m\u001b[0;34m.\u001b[0m\u001b[0mstep\u001b[0m\u001b[0;34m(\u001b[0m\u001b[0;34m)\u001b[0m\u001b[0;34m\u001b[0m\u001b[0;34m\u001b[0m\u001b[0m\n\u001b[1;32m     20\u001b[0m \u001b[0;34m\u001b[0m\u001b[0m\n",
      "\u001b[0;32m~/anaconda3/envs/qmc/lib/python3.7/site-packages/torch/tensor.py\u001b[0m in \u001b[0;36mbackward\u001b[0;34m(self, gradient, retain_graph, create_graph)\u001b[0m\n\u001b[1;32m    100\u001b[0m                 \u001b[0mproducts\u001b[0m\u001b[0;34m.\u001b[0m \u001b[0mDefaults\u001b[0m \u001b[0mto\u001b[0m\u001b[0;31m \u001b[0m\u001b[0;31m`\u001b[0m\u001b[0;31m`\u001b[0m\u001b[0;32mFalse\u001b[0m\u001b[0;31m`\u001b[0m\u001b[0;31m`\u001b[0m\u001b[0;34m.\u001b[0m\u001b[0;34m\u001b[0m\u001b[0;34m\u001b[0m\u001b[0m\n\u001b[1;32m    101\u001b[0m         \"\"\"\n\u001b[0;32m--> 102\u001b[0;31m         \u001b[0mtorch\u001b[0m\u001b[0;34m.\u001b[0m\u001b[0mautograd\u001b[0m\u001b[0;34m.\u001b[0m\u001b[0mbackward\u001b[0m\u001b[0;34m(\u001b[0m\u001b[0mself\u001b[0m\u001b[0;34m,\u001b[0m \u001b[0mgradient\u001b[0m\u001b[0;34m,\u001b[0m \u001b[0mretain_graph\u001b[0m\u001b[0;34m,\u001b[0m \u001b[0mcreate_graph\u001b[0m\u001b[0;34m)\u001b[0m\u001b[0;34m\u001b[0m\u001b[0;34m\u001b[0m\u001b[0m\n\u001b[0m\u001b[1;32m    103\u001b[0m \u001b[0;34m\u001b[0m\u001b[0m\n\u001b[1;32m    104\u001b[0m     \u001b[0;32mdef\u001b[0m \u001b[0mregister_hook\u001b[0m\u001b[0;34m(\u001b[0m\u001b[0mself\u001b[0m\u001b[0;34m,\u001b[0m \u001b[0mhook\u001b[0m\u001b[0;34m)\u001b[0m\u001b[0;34m:\u001b[0m\u001b[0;34m\u001b[0m\u001b[0;34m\u001b[0m\u001b[0m\n",
      "\u001b[0;32m~/anaconda3/envs/qmc/lib/python3.7/site-packages/torch/autograd/__init__.py\u001b[0m in \u001b[0;36mbackward\u001b[0;34m(tensors, grad_tensors, retain_graph, create_graph, grad_variables)\u001b[0m\n\u001b[1;32m     88\u001b[0m     Variable._execution_engine.run_backward(\n\u001b[1;32m     89\u001b[0m         \u001b[0mtensors\u001b[0m\u001b[0;34m,\u001b[0m \u001b[0mgrad_tensors\u001b[0m\u001b[0;34m,\u001b[0m \u001b[0mretain_graph\u001b[0m\u001b[0;34m,\u001b[0m \u001b[0mcreate_graph\u001b[0m\u001b[0;34m,\u001b[0m\u001b[0;34m\u001b[0m\u001b[0;34m\u001b[0m\u001b[0m\n\u001b[0;32m---> 90\u001b[0;31m         allow_unreachable=True)  # allow_unreachable flag\n\u001b[0m\u001b[1;32m     91\u001b[0m \u001b[0;34m\u001b[0m\u001b[0m\n\u001b[1;32m     92\u001b[0m \u001b[0;34m\u001b[0m\u001b[0m\n",
      "\u001b[0;31mRuntimeError\u001b[0m: element 0 of tensors does not require grad and does not have a grad_fn"
     ]
    }
   ],
   "source": [
    "import torch\n",
    "from torch.optim import SGD\n",
    "\n",
    "model = torch.nn.Linear(10, 10)\n",
    "optimizer = SGD(filter(lambda p: p.requires_grad, model.parameters()), lr=1e-3)\n",
    "\n",
    "model.bias.requires_grad = False\n",
    "\n",
    "for name, param in model.named_parameters():\n",
    "    print(name, param)\n",
    "\n",
    "x = torch.randn(5, 10)\n",
    "g = torch.randn(5, 10)\n",
    "\n",
    "loss = torch.nn.functional.mse_loss(x, g)\n",
    "\n",
    "optimizer.zero_grad()\n",
    "loss.backward()\n",
    "optimizer.step()\n",
    "\n",
    "for name, param in model.named_parameters():\n",
    "    print(name, param)"
   ]
  }
 ],
 "metadata": {
  "kernelspec": {
   "display_name": "Python 3",
   "language": "python",
   "name": "python3"
  },
  "language_info": {
   "codemirror_mode": {
    "name": "ipython",
    "version": 3
   },
   "file_extension": ".py",
   "mimetype": "text/x-python",
   "name": "python",
   "nbconvert_exporter": "python",
   "pygments_lexer": "ipython3",
   "version": "3.7.2"
  }
 },
 "nbformat": 4,
 "nbformat_minor": 2
}
